{
  "nbformat": 4,
  "nbformat_minor": 0,
  "metadata": {
    "colab": {
      "name": "DiabeticRetinopathy.ipynb",
      "provenance": [],
      "collapsed_sections": [],
      "include_colab_link": true
    },
    "kernelspec": {
      "name": "python3",
      "display_name": "Python 3"
    },
    "language_info": {
      "name": "python"
    },
    "accelerator": "GPU"
  },
  "cells": [
    {
      "cell_type": "markdown",
      "metadata": {
        "id": "view-in-github",
        "colab_type": "text"
      },
      "source": [
        "<a href=\"https://colab.research.google.com/github/Avr8/Diabetic_Retinopathy/blob/main/DiabeticRetinopathy.ipynb\" target=\"_parent\"><img src=\"https://colab.research.google.com/assets/colab-badge.svg\" alt=\"Open In Colab\"/></a>"
      ]
    },
    {
      "cell_type": "code",
      "metadata": {
        "colab": {
          "base_uri": "https://localhost:8080/"
        },
        "id": "22ccXpX_WQ54",
        "outputId": "1c3f67f0-0613-487d-97f1-f6a2e6f5c8a9"
      },
      "source": [
        "# Research Kernel Link - https://github.com/dimitreOliveira/APTOS2019BlindnessDetection/blob/master/Model%20backlog/ResNet50/4%20-%20ResNet50%20-%20Batch%20size%2022.ipynb\n",
        "\n",
        "import pandas as pd\n",
        "import numpy as np\n",
        "import os\n",
        "from prettytable import PrettyTable\n",
        "import pickle\n",
        "import multiprocessing\n",
        "from multiprocessing.pool import ThreadPool\n",
        "print(multiprocessing.cpu_count(),\" CPU cores\")\n",
        "\n",
        "import seaborn as sns\n",
        "%matplotlib inline\n",
        "import matplotlib.pyplot as plt\n",
        "plt.rcParams[\"axes.grid\"] = False\n",
        "\n",
        "from sklearn.metrics import confusion_matrix, cohen_kappa_score,accuracy_score\n",
        "\n",
        "from PIL import Image\n",
        "import cv2\n",
        "\n",
        "import keras\n",
        "from keras import applications\n",
        "from keras.preprocessing.image import ImageDataGenerator\n",
        "from keras import optimizers,Model,Sequential\n",
        "from keras.layers import Input,GlobalAveragePooling2D,Dropout,Dense,Activation\n",
        "\n",
        "\n",
        "# Colab Libs...\n",
        "from pydrive.auth import GoogleAuth\n",
        "from pydrive.drive import GoogleDrive\n",
        "from google.colab import auth\n",
        "from oauth2client.client import GoogleCredentials"
      ],
      "execution_count": null,
      "outputs": [
        {
          "output_type": "stream",
          "name": "stdout",
          "text": [
            "2  CPU cores\n"
          ]
        }
      ]
    },
    {
      "cell_type": "code",
      "metadata": {
        "id": "AOPuWlg2W43_"
      },
      "source": [
        "# Importing Libraries\n",
        "#ref - https://buomsoo-kim.github.io/colab/2018/04/16/Importing-files-from-Google-Drive-in-Google-Colab.md/\n",
        "\n",
        "auth.authenticate_user()\n",
        "gauth = GoogleAuth()\n",
        "gauth.credentials = GoogleCredentials.get_application_default()\n",
        "drive = GoogleDrive(gauth)"
      ],
      "execution_count": null,
      "outputs": []
    },
    {
      "cell_type": "code",
      "metadata": {
        "colab": {
          "base_uri": "https://localhost:8080/"
        },
        "id": "P5s9LrQAXEBl",
        "outputId": "ccfb6329-826a-4764-9db6-f4245bcc5ba8"
      },
      "source": [
        "from google.colab import drive\n",
        "drive.mount('/content/gdrive')"
      ],
      "execution_count": null,
      "outputs": [
        {
          "output_type": "stream",
          "name": "stdout",
          "text": [
            "Mounted at /content/gdrive\n"
          ]
        }
      ]
    },
    {
      "cell_type": "code",
      "metadata": {
        "colab": {
          "base_uri": "https://localhost:8080/"
        },
        "id": "UnaOi7ApXEEn",
        "outputId": "db3e36c5-8cff-41f0-ef4d-0232d4cb9172"
      },
      "source": [
        "import os\n",
        "os.chdir('/content/gdrive/My Drive/pakka_final')\n",
        "print(\"We are currently in the folder of \",os.getcwd())"
      ],
      "execution_count": null,
      "outputs": [
        {
          "output_type": "stream",
          "name": "stdout",
          "text": [
            "We are currently in the folder of  /content/gdrive/My Drive/pakka_final\n"
          ]
        }
      ]
    },
    {
      "cell_type": "code",
      "metadata": {
        "id": "0cybxJXNWQ5-"
      },
      "source": [
        "import zipfile\n",
        "def load_data():\n",
        "    data_test = pd.read_csv('TEST/test.csv')\n",
        "    data_train = pd.read_csv('TRAIN/train.csv')\n",
        "    \n",
        "   # !unzip TRAIN/train_images.zip -d TRAIN\n",
        "    # !unzip TEST/test_images.zip  -d TEST\n",
        "    # zip_ref_train = zipfile.ZipFile('TRAIN/train_images.zip','r')\n",
        "    # zip_ref_train.extractall()\n",
        "    # zip_ref_train.close()\n",
        "    # zip_ref_test = zipfile.ZipFile('TEST/test_images.zip','r')\n",
        "    # zip_ref_test.extractall()\n",
        "    # zip_ref_test.close()\n",
        "    return "
      ],
      "execution_count": null,
      "outputs": []
    },
    {
      "cell_type": "code",
      "metadata": {
        "id": "XMoI9oRIa4eh"
      },
      "source": [
        "load_data()"
      ],
      "execution_count": null,
      "outputs": []
    },
    {
      "cell_type": "code",
      "metadata": {
        "colab": {
          "base_uri": "https://localhost:8080/"
        },
        "id": "JyrWQ4MFjZkj",
        "outputId": "e4d08346-4a13-404c-f896-cbdbbf93b6ed"
      },
      "source": [
        "data_x = pd.read_csv('TRAIN/train.csv')\n",
        "print(data_x.head(19))"
      ],
      "execution_count": null,
      "outputs": [
        {
          "output_type": "stream",
          "name": "stdout",
          "text": [
            "         id_code  diagnosis\n",
            "0   000c1434d8d7          2\n",
            "1   001639a390f0          4\n",
            "2   0024cdab0c1e          1\n",
            "3   002c21358ce6          0\n",
            "4   005b95c28852          0\n",
            "5   0083ee8054ee          4\n",
            "6   0097f532ac9f          0\n",
            "7   00a8624548a9          2\n",
            "8   00b74780d31d          2\n",
            "9   00cb6555d108          1\n",
            "10  00cc2b75cddd          0\n",
            "11  00e4ddff966a          2\n",
            "12  00f6c1be5a33          0\n",
            "13  0104b032c141          3\n",
            "14  0124dffecf29          1\n",
            "15  0125fbd2e791          0\n",
            "16  012a242ac6ff          2\n",
            "17  014508ccb9cb          0\n",
            "18  0151781fe50b          0\n"
          ]
        }
      ]
    },
    {
      "cell_type": "code",
      "metadata": {
        "id": "YErjyiveOUQJ"
      },
      "source": [
        "import os\n",
        "os.mkdir('/content/gdrive/My Drive/pakka_final/train')\n",
        "os.mkdir('/content/gdrive/My Drive/pakka_final/train/No-dr')\n",
        "os.mkdir('/content/gdrive/My Drive/pakka_final/train/Mild')\n",
        "os.mkdir('/content/gdrive/My Drive/pakka_final/train/Moderate')\n",
        "os.mkdir('/content/gdrive/My Drive/pakka_final/train/Severe')\n",
        "os.mkdir('/content/gdrive/My Drive/pakka_final/train/Proliferative-dr')"
      ],
      "execution_count": null,
      "outputs": []
    },
    {
      "cell_type": "code",
      "metadata": {
        "id": "0JAt_YaWag4a"
      },
      "source": [
        "import shutil\n",
        "from shutil import copyfile\n",
        "map_dict = {0:'No-dr',1:'Mild',2:'Moderate',3:'Severe',4:'Proliferative-dr'}\n",
        "for i in range(0,len(data_x)):\n",
        "  img,diagnosis = data_x.iloc[i][0],data_x.iloc[i][1]\n",
        "  shutil.copy('/content/gdrive/MyDrive/pakka_final/TRAIN/'+img+'.png','/content/gdrive/My Drive/pakka_final/train/'+map_dict[diagnosis])"
      ],
      "execution_count": null,
      "outputs": []
    },
    {
      "cell_type": "code",
      "metadata": {
        "id": "UoxaoXX8tNZi"
      },
      "source": [
        "data_y = pd.read_csv('TEST/test.csv')"
      ],
      "execution_count": null,
      "outputs": []
    },
    {
      "cell_type": "code",
      "metadata": {
        "colab": {
          "base_uri": "https://localhost:8080/"
        },
        "id": "kq43axo8iJBe",
        "outputId": "c8f907af-b84b-42db-d607-2a152b2a87dc"
      },
      "source": [
        "!pip install tqdm\n",
        "!pip install time\n"
      ],
      "execution_count": null,
      "outputs": [
        {
          "output_type": "stream",
          "name": "stdout",
          "text": [
            "Requirement already satisfied: tqdm in /usr/local/lib/python3.7/dist-packages (4.62.2)\n",
            "\u001b[31mERROR: Could not find a version that satisfies the requirement time (from versions: none)\u001b[0m\n",
            "\u001b[31mERROR: No matching distribution found for time\u001b[0m\n"
          ]
        }
      ]
    },
    {
      "cell_type": "code",
      "metadata": {
        "colab": {
          "base_uri": "https://localhost:8080/"
        },
        "id": "RhA6UQjZWwIS",
        "outputId": "fe779694-a924-44e3-aabb-4ba5dc0df601"
      },
      "source": [
        "directory = '/content/gdrive/My Drive/pakka_final/train/No-dr'\n",
        "x_train,y_train = [],[]\n",
        "for x in tqdm(os.listdir(directory)):\n",
        "  dir = os.path.join(directory,x)\n",
        "  frame = cv2.imread(dir)\n",
        "  frame = cv2.resize(frame,(320,320))\n",
        "  frame = frame.reshape(320,320,3)\n",
        "  x_train.append(frame)\n",
        "  y_train.append(0)\n",
        "directory = '/content/gdrive/My Drive/pakka_final/train/Mild'\n",
        "for x in tqdm(os.listdir(directory)):\n",
        "  dir = os.path.join(directory,x)\n",
        "  frame = cv2.imread(dir)\n",
        "  frame = cv2.resize(frame,(320,320))\n",
        "  frame = frame.reshape(320,320,3)\n",
        "  x_train.append(frame)\n",
        "  y_train.append(1)\n",
        "directory = '/content/gdrive/My Drive/pakka_final/train/Moderate'\n",
        "for x in tqdm(os.listdir(directory)):\n",
        "  dir = os.path.join(directory,x)\n",
        "  frame = cv2.imread(dir)\n",
        "  frame = cv2.resize(frame,(320,320))\n",
        "  frame = frame.reshape(320,320,3)\n",
        "  x_train.append(frame)\n",
        "  y_train.append(2)\n",
        "directory = '/content/gdrive/My Drive/pakka_final/train/Severe'\n",
        "for x in tqdm(os.listdir(directory)):\n",
        "  dir = os.path.join(directory,x)\n",
        "  frame = cv2.imread(dir)\n",
        "  frame = cv2.resize(frame,(320,320))\n",
        "  frame = frame.reshape(320,320,3)\n",
        "  x_train.append(frame)\n",
        "  y_train.append(3)\n",
        "directory = '/content/gdrive/My Drive/pakka_final/train/Proliferative-dr'\n",
        "for x in tqdm(os.listdir(directory)):\n",
        "  dir = os.path.join(directory,x)\n",
        "  frame = cv2.imread(dir)\n",
        "  frame = cv2.resize(frame,(320,320))\n",
        "  frame = frame.reshape(320,320,3)\n",
        "  x_train.append(frame)\n",
        "  y_train.append(4)\n",
        "np.save('/content/gdrive/My Drive/pakka_final/x.npy',x_train)\n",
        "np.save('/content/gdrive/My Drive/pakka_final/y.npy',y_train)"
      ],
      "execution_count": null,
      "outputs": [
        {
          "output_type": "stream",
          "name": "stderr",
          "text": [
            "100%|██████████| 1805/1805 [08:43<00:00,  3.45it/s]\n",
            "100%|██████████| 370/370 [07:28<00:00,  1.21s/it]\n",
            "100%|██████████| 999/999 [20:12<00:00,  1.21s/it]\n",
            "100%|██████████| 193/193 [03:41<00:00,  1.15s/it]\n",
            "100%|██████████| 295/295 [06:09<00:00,  1.25s/it]\n"
          ]
        }
      ]
    },
    {
      "cell_type": "code",
      "metadata": {
        "id": "-THjtkB2xmPk"
      },
      "source": [
        ""
      ],
      "execution_count": null,
      "outputs": []
    },
    {
      "cell_type": "code",
      "metadata": {
        "id": "KBX1kOjkWQ6H"
      },
      "source": [
        "# Model parameters\n",
        "BATCH_SIZE = 8\n",
        "EPOCHS = 40\n",
        "WARMUP_EPOCHS = 2\n",
        "LEARNING_RATE = 1e-4\n",
        "WARMUP_LEARNING_RATE = 1e-3\n",
        "HEIGHT = 320\n",
        "WIDTH = 320\n",
        "CANAL = 3\n",
        "N_CLASSES = 5\n",
        "ES_PATIENCE = 5\n",
        "RLROP_PATIENCE = 3\n",
        "DECAY_DROP = 0.5"
      ],
      "execution_count": null,
      "outputs": []
    },
    {
      "cell_type": "code",
      "metadata": {
        "id": "p1ktmE4ZWQ6T"
      },
      "source": [
        "import tensorflow as tf\n",
        "def create_model():\n",
        "    model=tf.keras.Sequential([\n",
        "    tf.keras.layers.Conv2D(32,(5,5),input_shape=(320,320,3),activation='relu'),\n",
        "    tf.keras.layers.MaxPooling2D(2,2),\n",
        "    tf.keras.layers.Conv2D(64,(3,3),activation='relu'),\n",
        "    tf.keras.layers.MaxPooling2D(2,2),\n",
        "    tf.keras.layers.Conv2D(64,(3,3),activation='relu'),\n",
        "    tf.keras.layers.MaxPooling2D(2,2),\n",
        "    tf.keras.layers.Flatten(),\n",
        "    tf.keras.layers.Dense(128,activation='relu'),\n",
        "    tf.keras.layers.Dense(5,activation='softmax')\n",
        "    ])\n",
        "    return model"
      ],
      "execution_count": null,
      "outputs": []
    },
    {
      "cell_type": "code",
      "metadata": {
        "colab": {
          "base_uri": "https://localhost:8080/"
        },
        "id": "GIHj-I3LWQ6W",
        "outputId": "b16f74ab-0756-404f-b842-b003cb4c7644"
      },
      "source": [
        "model = create_model()\n",
        "model.summary()"
      ],
      "execution_count": null,
      "outputs": [
        {
          "output_type": "stream",
          "name": "stdout",
          "text": [
            "Model: \"sequential\"\n",
            "_________________________________________________________________\n",
            "Layer (type)                 Output Shape              Param #   \n",
            "=================================================================\n",
            "conv2d (Conv2D)              (None, 316, 316, 32)      2432      \n",
            "_________________________________________________________________\n",
            "max_pooling2d (MaxPooling2D) (None, 158, 158, 32)      0         \n",
            "_________________________________________________________________\n",
            "conv2d_1 (Conv2D)            (None, 156, 156, 64)      18496     \n",
            "_________________________________________________________________\n",
            "max_pooling2d_1 (MaxPooling2 (None, 78, 78, 64)        0         \n",
            "_________________________________________________________________\n",
            "conv2d_2 (Conv2D)            (None, 76, 76, 64)        36928     \n",
            "_________________________________________________________________\n",
            "max_pooling2d_2 (MaxPooling2 (None, 38, 38, 64)        0         \n",
            "_________________________________________________________________\n",
            "flatten (Flatten)            (None, 92416)             0         \n",
            "_________________________________________________________________\n",
            "dense (Dense)                (None, 128)               11829376  \n",
            "_________________________________________________________________\n",
            "dense_1 (Dense)              (None, 5)                 645       \n",
            "=================================================================\n",
            "Total params: 11,887,877\n",
            "Trainable params: 11,887,877\n",
            "Non-trainable params: 0\n",
            "_________________________________________________________________\n"
          ]
        }
      ]
    },
    {
      "cell_type": "code",
      "metadata": {
        "id": "UR-WhqwSWQ6a",
        "colab": {
          "base_uri": "https://localhost:8080/"
        },
        "outputId": "3b33880c-276c-46ce-bad6-0e82cf317d4c"
      },
      "source": [
        "x_train = np.load('x.npy')\n",
        "y_train = np.load('y.npy')\n",
        "x_train = np.array(x_train)\n",
        "y_train = np.array(y_train)\n",
        "one_hot_labels = np.zeros((len(y_train),5))\n",
        "for i,l in enumerate(y_train):\n",
        "  one_hot_labels[i][l] = 1\n",
        "y_train = one_hot_labels\n",
        "model.compile(optimizer = 'adam',loss = 'categorical_crossentropy',metrics = ['accuracy'])\n",
        "history_warmup = model.fit(x_train,y_train,\n",
        "                                    epochs=10).history"
      ],
      "execution_count": null,
      "outputs": [
        {
          "output_type": "stream",
          "name": "stdout",
          "text": [
            "Epoch 1/10\n",
            "115/115 [==============================] - 20s 167ms/step - loss: 0.7843 - accuracy: 0.7135\n",
            "Epoch 2/10\n",
            "115/115 [==============================] - 19s 166ms/step - loss: 0.8117 - accuracy: 0.7092\n",
            "Epoch 3/10\n",
            "115/115 [==============================] - 19s 167ms/step - loss: 0.7712 - accuracy: 0.7193\n",
            "Epoch 4/10\n",
            "115/115 [==============================] - 19s 166ms/step - loss: 0.7480 - accuracy: 0.7182\n",
            "Epoch 5/10\n",
            "115/115 [==============================] - 19s 166ms/step - loss: 0.7138 - accuracy: 0.7351\n",
            "Epoch 6/10\n",
            "115/115 [==============================] - 19s 165ms/step - loss: 0.6988 - accuracy: 0.7419\n",
            "Epoch 7/10\n",
            "115/115 [==============================] - 19s 166ms/step - loss: 0.6808 - accuracy: 0.7482\n",
            "Epoch 8/10\n",
            "115/115 [==============================] - 19s 165ms/step - loss: 0.6596 - accuracy: 0.7496\n",
            "Epoch 9/10\n",
            " 39/115 [=========>....................] - ETA: 12s - loss: 0.6347 - accuracy: 0.7700"
          ]
        }
      ]
    },
    {
      "cell_type": "code",
      "metadata": {
        "id": "7I9L6ktI44Oj"
      },
      "source": [
        "def upload_files():\n",
        "  from google.colab import files\n",
        "  uploaded = files.upload()\n",
        "  for k, v in uploaded.items():\n",
        "    open(k, 'wb').write(v)\n",
        "  return list(uploaded.keys())"
      ],
      "execution_count": null,
      "outputs": []
    },
    {
      "cell_type": "code",
      "metadata": {
        "colab": {
          "resources": {
            "http://localhost:8080/nbextensions/google.colab/files.js": {
              "data": "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",
              "ok": true,
              "headers": [
                [
                  "content-type",
                  "application/javascript"
                ]
              ],
              "status": 200,
              "status_text": ""
            }
          },
          "base_uri": "https://localhost:8080/",
          "height": 73
        },
        "id": "8gicQ2qs6Ulj",
        "outputId": "3c22d9a6-c01b-4bc9-f2a2-bd58c64ffe3a"
      },
      "source": [
        "ans = upload_files()\n"
      ],
      "execution_count": null,
      "outputs": [
        {
          "output_type": "display_data",
          "data": {
            "text/html": [
              "\n",
              "     <input type=\"file\" id=\"files-aeef6523-f075-4d0b-9858-415d537767a2\" name=\"files[]\" multiple disabled\n",
              "        style=\"border:none\" />\n",
              "     <output id=\"result-aeef6523-f075-4d0b-9858-415d537767a2\">\n",
              "      Upload widget is only available when the cell has been executed in the\n",
              "      current browser session. Please rerun this cell to enable.\n",
              "      </output>\n",
              "      <script src=\"/nbextensions/google.colab/files.js\"></script> "
            ],
            "text/plain": [
              "<IPython.core.display.HTML object>"
            ]
          },
          "metadata": {}
        },
        {
          "output_type": "stream",
          "name": "stdout",
          "text": [
            "Saving 0af296d2f04a.png to 0af296d2f04a.png\n"
          ]
        }
      ]
    },
    {
      "cell_type": "code",
      "metadata": {
        "colab": {
          "base_uri": "https://localhost:8080/"
        },
        "id": "rJ0_YMsG7wNd",
        "outputId": "781a9cdd-3836-431e-971f-5b71980f6ac8"
      },
      "source": [
        "frame = cv2.imread('0bf37ca3156a.png')\n",
        "frame = cv2.resize(frame,(320,320))\n",
        "frame = frame.reshape(1,320,320,3)\n",
        "map_dict = {0:'No-dr',1:'Mild',2:'Moderate',3:'Severe',4:'Proliferative-dr'}\n",
        "ans = np.argmax(model.predict(frame)[0])\n",
        "print(map_dict[ans])"
      ],
      "execution_count": null,
      "outputs": [
        {
          "output_type": "stream",
          "name": "stdout",
          "text": [
            "No-dr\n"
          ]
        }
      ]
    },
    {
      "cell_type": "code",
      "metadata": {
        "id": "DZ9ncjfh883d"
      },
      "source": [
        ""
      ],
      "execution_count": null,
      "outputs": []
    }
  ]
}